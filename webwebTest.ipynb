{
 "cells": [
  {
   "cell_type": "code",
   "execution_count": 86,
   "metadata": {},
   "outputs": [],
   "source": [
    "from webwebpy.webweb import webweb\n",
    "import networkx as nx\n",
    "import os\n",
    "import re\n",
    "import string\n",
    "import math\n",
    "from random import randint\n",
    "import numpy as np\n",
    "import matplotlib.pyplot as plt\n",
    "from pylab import *\n",
    "from random import getrandbits\n",
    "import collections\n",
    "from networkx.algorithms import community\n",
    "import pickle\n",
    "import random\n",
    "import numpy as np\n"
   ]
  },
  {
   "cell_type": "code",
   "execution_count": 87,
   "metadata": {},
   "outputs": [
    {
     "name": "stdout",
     "output_type": "stream",
     "text": [
      "finish reading\n"
     ]
    }
   ],
   "source": [
    "def read_data(path):\n",
    "    G = nx.Graph()\n",
    "    with open(path, 'r') as f:\n",
    "        lines = f.readlines()\n",
    "    maxNode = 6300\n",
    "    for i in range(maxNode+1):\n",
    "        G.add_node(i)\n",
    "    for i in range(len(lines)):\n",
    "        lines[i] = lines[i].rstrip('\\n')\n",
    "        edge = lines[i].split('\\t')\n",
    "        G.add_edge(int(edge[0]),int(edge[1]))\n",
    "    return G\n",
    "def read_adj(path):\n",
    "    adjaceny_list = []\n",
    "    with open(path, 'r') as f:\n",
    "        lines = f.readlines()\n",
    "    maxNode = 6300\n",
    "    for i in range(len(lines)):\n",
    "        temp_list = []\n",
    "        lines[i] = lines[i].rstrip('\\n')\n",
    "        edge = lines[i].split('\\t')\n",
    "        temp_list.append(int(edge[0]))\n",
    "        temp_list.append(int(edge[1]))\n",
    "        temp_list.append(1)\n",
    "        adjaceny_list.append(temp_list)\n",
    "    return adjaceny_list\n",
    "'''\n",
    "# Build a simple network\n",
    "N = 6000\n",
    "adjaceny_list = [[random.randint(0, N-1), random.randint(0, N-1), 1] for _ in range(N)]\n",
    "\n",
    "# Instantiate webweb object\n",
    "web = webweb(num_nodes=N)\n",
    "\n",
    "# Assign adjaceny lists in network\n",
    "web.networks.simple.adj = adjaceny_list\n",
    "\n",
    "# # Save as json with name \"advanced_example\"\n",
    "# web.save_json(\"testtes\")\n",
    "'''\n",
    "G = read_data(\"../Gnutella p2p.txt\")\n",
    "#G = nx.planted_partition_graph(2, 10, 0.8, 0.01, seed=42)\n",
    "print(\"finish reading\")\n",
    "com = pickle.load( open( \"../com.p\", \"rb\" ) )\n",
    "#print(com)\n",
    "for i in G:\n",
    "    for j in range(len(com)):\n",
    "        if i in com[j]:\n",
    "            G.node[i]['community'] = j\n",
    "            continue\n",
    "#test\n",
    "N = 6301\n",
    "adjaceny_list = read_adj(\"../Gnutella p2p.txt\")\n",
    "#label\n",
    "com_list = []\n",
    "for i in G:\n",
    "    com_list.append(G.node[i]['community'])\n",
    "#print(com_list)\n",
    "# Instantiate webweb object\n",
    "web = webweb(num_nodes=N)\n",
    "\n",
    "web.display.w = 800\n",
    "web.display.h = 800\n",
    "# Assign adjaceny lists in network\n",
    "web.networks.gnutella.adj = adjaceny_list\n",
    "\n",
    "web.networks.gnutella.labels.community.type = 'scalar'\n",
    "web.networks.gnutella.labels.community.value = com_list\n",
    "\n",
    "web.display.nodeNames = com_list"
   ]
  },
  {
   "cell_type": "code",
   "execution_count": 88,
   "metadata": {},
   "outputs": [],
   "source": [
    "# Launch webbrowser with result\n",
    "web.draw()"
   ]
  },
  {
   "cell_type": "code",
   "execution_count": null,
   "metadata": {},
   "outputs": [],
   "source": []
  }
 ],
 "metadata": {
  "kernelspec": {
   "display_name": "Python 3",
   "language": "python",
   "name": "python3"
  },
  "language_info": {
   "codemirror_mode": {
    "name": "ipython",
    "version": 3
   },
   "file_extension": ".py",
   "mimetype": "text/x-python",
   "name": "python",
   "nbconvert_exporter": "python",
   "pygments_lexer": "ipython3",
   "version": "3.6.6"
  }
 },
 "nbformat": 4,
 "nbformat_minor": 2
}
